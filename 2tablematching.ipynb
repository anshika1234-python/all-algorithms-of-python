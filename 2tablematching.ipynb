{
 "cells": [
  {
   "cell_type": "markdown",
   "id": "11eaa198",
   "metadata": {},
   "source": [
    "#  comparing two tables and printing which are matched values and unmatched values and extra values\n",
    "table1 = [\n",
    "    (1, \"Sandeep\"),\n",
    "    (2, \"Giri\"),\n",
    "    (4, \"Ajay\"),\n",
    "    (5, \"Sumit\"),\n",
    "    (6, \"Roy\")\n",
    "]\n",
    "\n",
    "table2 = [\n",
    "    (1, \"Sandeep\"),\n",
    "    (2, \"giri\"),\n",
    "    (3, \"Avinash\"),\n",
    "    (4, \"Ajay\"),\n",
    "]\n",
    "\n",
    "# Strategy 1\n",
    "#For every record in table1 try finding a record in table2 - O(n**2)\n",
    "\n",
    "# Strategy 2\n",
    "#Assumption - the data is sorted by id O(n)"
   ]
  },
  {
   "cell_type": "code",
   "execution_count": 1,
   "id": "e8d32dbf",
   "metadata": {},
   "outputs": [
    {
     "name": "stdout",
     "output_type": "stream",
     "text": [
      "Comparing: \n",
      "[(1, 'Sandeep'), (2, 'Giri'), (4, 'Ajay'), (5, 'Sumit'), (6, 'Roy')]\n",
      "[(1, 'Sandeep'), (2, 'giri'), (3, 'Avinash'), (4, 'Ajay')]\n",
      "None\n",
      "rows are matching: 0 0\n",
      "rows are not matching: 1 1\n",
      "row is missing in left 3\n",
      "rows are matching: 2 3\n",
      "extra row:  Sumit\n",
      "extra row:  Roy\n"
     ]
    }
   ],
   "source": [
    "table1 = [\n",
    "    (1, \"Sandeep\"),\n",
    "    (2, \"Giri\"),\n",
    "    (4, \"Ajay\"),\n",
    "    (5, \"Sumit\"),\n",
    "    (6, \"Roy\")\n",
    "]\n",
    "\n",
    "table2 = [\n",
    "    (1, \"Sandeep\"),\n",
    "    (2, \"giri\"),\n",
    "    (3, \"Avinash\"),\n",
    "    (4, \"Ajay\"),\n",
    "]\n",
    "print(print(f\"Comparing: \\n{table1}\\n{table2}\"))\n",
    "i,j=0,0\n",
    "while i< len(table1) and j <len(table2):\n",
    "    if table1[i][0] == table2[j][0]:\n",
    "        if table1[i][1]== table2[j][1]:\n",
    "            print(f\"rows are matching:\" ,i,j)\n",
    "        else:\n",
    "            print(\"rows are not matching:\",i,j)\n",
    "        i+=1\n",
    "        j+=1\n",
    "    elif table1[i][0] < table2[j][0]:\n",
    "        print(\"row missing in right\",table1[i][0])\n",
    "        i+=1\n",
    "    else:\n",
    "        print(\"row is missing in left\",table2[j][0])\n",
    "        j+=1\n",
    "label=''\n",
    "if i<len(table1):\n",
    "    lable=\"left\"\n",
    "    rem=table1\n",
    "    li=i\n",
    "else:\n",
    "    label=\"right\"\n",
    "    rem=table2\n",
    "    li=j\n",
    "while li< len(rem):\n",
    "    print(\"extra row:\",label,rem[li][1])\n",
    "    li+=1\n",
    "\n",
    "\n"
   ]
  },
  {
   "cell_type": "code",
   "execution_count": 3,
   "id": "eabc623e",
   "metadata": {},
   "outputs": [
    {
     "ename": "NameError",
     "evalue": "name 'zookeeper' is not defined",
     "output_type": "error",
     "traceback": [
      "\u001b[31m---------------------------------------------------------------------------\u001b[39m",
      "\u001b[31mNameError\u001b[39m                                 Traceback (most recent call last)",
      "\u001b[36mCell\u001b[39m\u001b[36m \u001b[39m\u001b[32mIn[3]\u001b[39m\u001b[32m, line 8\u001b[39m\n\u001b[32m      1\u001b[39m arr = [\u001b[33m'\u001b[39m\u001b[33mrows are matching: 0 0\u001b[39m\u001b[33m'\u001b[39m,\n\u001b[32m      2\u001b[39m \u001b[33m'\u001b[39m\u001b[33mrows are not matching: 1 1\u001b[39m\u001b[33m'\u001b[39m,\n\u001b[32m      3\u001b[39m \u001b[33m'\u001b[39m\u001b[33mrow is missing in left 3\u001b[39m\u001b[33m'\u001b[39m,\n\u001b[32m      4\u001b[39m \u001b[33m'\u001b[39m\u001b[33mrows are matching: 2 3\u001b[39m\u001b[33m'\u001b[39m,\n\u001b[32m      5\u001b[39m \u001b[33m'\u001b[39m\u001b[33mextra row:  Sumit\u001b[39m\u001b[33m'\u001b[39m,\n\u001b[32m      6\u001b[39m \u001b[33m'\u001b[39m\u001b[33mextra row:  Roy\u001b[39m\u001b[33m'\u001b[39m]\n\u001b[32m      7\u001b[39m \u001b[38;5;28;01mimport\u001b[39;00m\u001b[38;5;250m \u001b[39m\u001b[34;01mjson\u001b[39;00m\n\u001b[32m----> \u001b[39m\u001b[32m8\u001b[39m \u001b[38;5;28;01mwith\u001b[39;00m \u001b[38;5;28mopen\u001b[39m(\u001b[43mzookeeper\u001b[49m.txt,\u001b[33m\"\u001b[39m\u001b[33mw+\u001b[39m\u001b[33m\"\u001b[39m) \u001b[38;5;28;01mas\u001b[39;00m f:\n\u001b[32m      9\u001b[39m     datas=json.dumps(zookeeper)\n\u001b[32m     10\u001b[39m     f.write(\u001b[38;5;28mstr\u001b[39m(datas))\n",
      "\u001b[31mNameError\u001b[39m: name 'zookeeper' is not defined"
     ]
    }
   ],
   "source": [
    "arr = ['rows are matching: 0 0',\n",
    "'rows are not matching: 1 1',\n",
    "'row is missing in left 3',\n",
    "'rows are matching: 2 3',\n",
    "'extra row:  Sumit',\n",
    "'extra row:  Roy']\n",
    "import json\n",
    "with open(zookeeper.txt,\"w+\") as f:\n",
    "    datas=json.dumps(zookeeper)\n",
    "    f.write(str(datas))"
   ]
  },
  {
   "cell_type": "code",
   "execution_count": null,
   "id": "29f623fb",
   "metadata": {},
   "outputs": [],
   "source": []
  }
 ],
 "metadata": {
  "kernelspec": {
   "display_name": "Python 3",
   "language": "python",
   "name": "python3"
  },
  "language_info": {
   "codemirror_mode": {
    "name": "ipython",
    "version": 3
   },
   "file_extension": ".py",
   "mimetype": "text/x-python",
   "name": "python",
   "nbconvert_exporter": "python",
   "pygments_lexer": "ipython3",
   "version": "3.12.1"
  }
 },
 "nbformat": 4,
 "nbformat_minor": 5
}
