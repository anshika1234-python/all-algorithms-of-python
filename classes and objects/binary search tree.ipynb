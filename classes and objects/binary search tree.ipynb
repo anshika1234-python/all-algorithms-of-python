{
 "cells": [
  {
   "cell_type": "markdown",
   "id": "006393e1",
   "metadata": {},
   "source": [
    "# binary search tree\n",
    " in this tree by comparing with node valueif value is less than node value it is insered on left and if value is equal or greater than node value it is inserted on right and in this way binary tree is created it work for sorting data with very less order of complexity \n",
    " n*log(n) it has one bug that doesnot workon already sorted data\n",
    " \n"
   ]
  },
  {
   "cell_type": "markdown",
   "id": "10586672",
   "metadata": {},
   "source": [
    "          10\n",
    "         /  \\\n",
    "        5    15\n",
    "       / \\   /  \\\n",
    "      3   7 12  18\n"
   ]
  },
  {
   "cell_type": "code",
   "execution_count": 27,
   "id": "041e6911",
   "metadata": {},
   "outputs": [],
   "source": [
    "class Node:\n",
    "    val=-1\n",
    "    def __init__(self,v,left=None,right=None):\n",
    "        self.val=v\n",
    "        self.left=left\n",
    "        self.right=right\n",
    "    def __repr__(self):\n",
    "        return f\"{self.val} -> [{self.left},{self.right}]\"\n",
    "    def insert(self,nn):\n",
    "        if nn.val<self.val:\n",
    "            if self.left:\n",
    "                self.left.insert(nn)\n",
    "            else:\n",
    "                self.left=nn\n",
    "        else:\n",
    "\n",
    "            if self.right:\n",
    "                self.right.insert(nn)\n",
    "            else:\n",
    "                 self.right=nn\n",
    "    def print(self):\n",
    "        if self.left:\n",
    "            self.left.print()\n",
    "        print(self.val)\n",
    "        if self.right:\n",
    "            self.right.print()\n",
    "            \n",
    "class Tree:\n",
    "    root=None\n",
    "    def insert(self,val):\n",
    "        nn=Node(val)\n",
    "        if self.root==None:\n",
    "            self.root=nn\n",
    "        else:\n",
    "            self.root.insert(nn)\n",
    "    def insert_arr(self,arr):\n",
    "        for e in arr:\n",
    "            self.insert(e)\n",
    "    def print(self):\n",
    "        if self.root:\n",
    "            self.root.print()"
   ]
  },
  {
   "cell_type": "code",
   "execution_count": 28,
   "id": "29e8bd1a",
   "metadata": {},
   "outputs": [
    {
     "name": "stdout",
     "output_type": "stream",
     "text": [
      "2\n",
      "3\n",
      "4\n",
      "5\n",
      "6\n",
      "7\n",
      "8\n"
     ]
    }
   ],
   "source": [
    "tree=Tree()\n",
    "tree.insert_arr([5,3,7,2,4,6,8])\n",
    "tree.print()"
   ]
  },
  {
   "cell_type": "code",
   "execution_count": 29,
   "id": "1bd2eb76",
   "metadata": {},
   "outputs": [
    {
     "name": "stdout",
     "output_type": "stream",
     "text": [
      "5 -> [3 -> [2 -> [None,None],4 -> [None,None]],7 -> [6 -> [None,None],8 -> [None,None]]]\n"
     ]
    }
   ],
   "source": [
    "print(tree.root)"
   ]
  },
  {
   "cell_type": "code",
   "execution_count": null,
   "id": "e03821df",
   "metadata": {},
   "outputs": [
    {
     "name": "stdout",
     "output_type": "stream",
     "text": [
      "<__main__.Tree object at 0x771a825786e0>\n",
      "2\n",
      "9\n"
     ]
    }
   ],
   "source": [
    "node=Node(9)\n",
    "node.insert(Node(2))\n",
    "node.print()"
   ]
  },
  {
   "cell_type": "code",
   "execution_count": null,
   "id": "8a71f3cf",
   "metadata": {},
   "outputs": [],
   "source": []
  },
  {
   "cell_type": "code",
   "execution_count": 23,
   "id": "26a0cdb7",
   "metadata": {},
   "outputs": [
    {
     "name": "stdout",
     "output_type": "stream",
     "text": [
      "<__main__.Node object at 0x771a9bd84ec0>\n"
     ]
    }
   ],
   "source": [
    "print(tree.root)"
   ]
  },
  {
   "cell_type": "code",
   "execution_count": null,
   "id": "91b737ca",
   "metadata": {},
   "outputs": [],
   "source": []
  }
 ],
 "metadata": {
  "kernelspec": {
   "display_name": "Python 3",
   "language": "python",
   "name": "python3"
  },
  "language_info": {
   "codemirror_mode": {
    "name": "ipython",
    "version": 3
   },
   "file_extension": ".py",
   "mimetype": "text/x-python",
   "name": "python",
   "nbconvert_exporter": "python",
   "pygments_lexer": "ipython3",
   "version": "3.12.1"
  }
 },
 "nbformat": 4,
 "nbformat_minor": 5
}
