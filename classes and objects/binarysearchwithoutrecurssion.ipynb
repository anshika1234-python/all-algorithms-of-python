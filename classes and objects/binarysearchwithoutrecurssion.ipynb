{
 "cells": [
  {
   "cell_type": "markdown",
   "id": "e134f420",
   "metadata": {},
   "source": [
    "# binary search tree without recurssion"
   ]
  },
  {
   "cell_type": "code",
   "execution_count": 9,
   "id": "d8dfc04f",
   "metadata": {},
   "outputs": [],
   "source": [
    "class Node:\n",
    "    def __init__(self,v,l=None,r=None):\n",
    "        self.value=v\n",
    "        self.left=l\n",
    "        self.right=r\n",
    "    def inorder_traverse(self,root):   # inorder traversal work like first left -> root -> right     \n",
    "        stack=[]      # just work as list\n",
    "        current=root   \n",
    "        while current or stack:  # outerloop work until any node left in stack or current\n",
    "            while current :      # inner loop is for left side of tree till gets none value\n",
    "                # it will push all left nodes in stack  \n",
    "                # and then it will pop the last node from stack\n",
    "                stack.append(current)\n",
    "                current=current.left\n",
    "            current=stack.pop()  # pop function remove and print the last element of stack\n",
    "            # print the value of current node\n",
    "            print(current.value,end=\"\")\n",
    "            current=current.right   # now it will check the right side of current node\n",
    "\n"
   ]
  },
  {
   "cell_type": "markdown",
   "id": "20cf3f96",
   "metadata": {},
   "source": [
    "        5\n",
    "       / \\\n",
    "      3   8\n",
    "     / \\ / \\\n",
    "    2  4 7  9\n"
   ]
  },
  {
   "cell_type": "code",
   "execution_count": 12,
   "id": "7854234c",
   "metadata": {},
   "outputs": [
    {
     "name": "stdout",
     "output_type": "stream",
     "text": [
      "234789"
     ]
    }
   ],
   "source": [
    "root=Node(4)\n",
    "root.left=Node(3)\n",
    "root.left.left=Node(2)\n",
    "root.right=Node(8)\n",
    "root.right.left=Node(4)\n",
    "root.right.left = Node(7)\n",
    "root.right.right = Node(9)\n",
    "root.inorder_traverse(root)"
   ]
  },
  {
   "cell_type": "code",
   "execution_count": null,
   "id": "1d9a3816",
   "metadata": {},
   "outputs": [],
   "source": []
  }
 ],
 "metadata": {
  "kernelspec": {
   "display_name": "Python 3",
   "language": "python",
   "name": "python3"
  },
  "language_info": {
   "codemirror_mode": {
    "name": "ipython",
    "version": 3
   },
   "file_extension": ".py",
   "mimetype": "text/x-python",
   "name": "python",
   "nbconvert_exporter": "python",
   "pygments_lexer": "ipython3",
   "version": "3.12.1"
  }
 },
 "nbformat": 4,
 "nbformat_minor": 5
}
