{
 "cells": [
  {
   "cell_type": "markdown",
   "id": "387ffad6",
   "metadata": {},
   "source": [
    "# tree with left and right branch and different operation of addition , count, max, min , translate applied to it"
   ]
  },
  {
   "cell_type": "code",
   "execution_count": 33,
   "id": "9d6dbbb0",
   "metadata": {},
   "outputs": [],
   "source": [
    "class Node:\n",
    "    val = 0\n",
    "    left = None\n",
    "    right = None\n",
    "\n",
    "    def __init__(self, v, l = None, r = None):\n",
    "        self.val = v\n",
    "        self.left = l\n",
    "        self.right = r\n",
    "    \n",
    "    def total(self):\n",
    "        ret = self.val\n",
    "        if self.left != None:\n",
    "            ret += self.left.total()\n",
    "        if self.right != None:\n",
    "            ret += self.right.total()\n",
    "        return ret\n",
    "    def count(self):\n",
    "        cnt = 1\n",
    "        if self.left != None:\n",
    "            cnt += self.left.count()\n",
    "        if self.right != None:\n",
    "            cnt += self.right.count()\n",
    "        return cnt\n",
    "    def find_max(self):\n",
    "        \"\"\"Returns the maximum value in the tree.\"\"\"\n",
    "        max_val = self.val\n",
    "        if self.left:\n",
    "            max_val = max(max_val, self.left.find_max())\n",
    "        if self.right:\n",
    "            max_val = max(max_val, self.right.find_max())\n",
    "        return max_val\n",
    "\n",
    "    def find_min(self):\n",
    "        \"\"\"Returns the minimum value in the tree.\"\"\"\n",
    "        min_val = self.val\n",
    "        if self.left:\n",
    "            min_val = min(min_val, self.left.find_min())\n",
    "        if self.right:\n",
    "            min_val = min(min_val, self.right.find_min())\n",
    "        return min_val\n",
    "\n",
    "    \n",
    "    def find(self,x):\n",
    "        if self.val==x:\n",
    "            return True\n",
    "        elif x < self.val and self.left:\n",
    "            return self.left.find(x)\n",
    "        elif x < self.val and self.right:\n",
    "            return self.right.find(x)\n",
    "        return False\n",
    "    \n",
    "    def translate_update_value(self, func):\n",
    "        self.val= func(self.val)\n",
    "        if self.left:\n",
    "            self.left.translate_update_value(func)\n",
    "        if self.right:\n",
    "            self.right.translate_update_value(func)\n",
    "    def max_depth(self):\n",
    "        if self is None:\n",
    "            return 0\n",
    "        if self.left:\n",
    "            left_depth = self.left.max_depth()\n",
    "        else:\n",
    "            left_depth = 0\n",
    "        if self.right:\n",
    "            right_depth = self.right.max_depth()\n",
    "        else:\n",
    "            right_depth = 0\n",
    "        return 1 + max(left_depth, right_depth)\n",
    "        \n"
   ]
  },
  {
   "cell_type": "code",
   "execution_count": 34,
   "id": "a54238dc",
   "metadata": {},
   "outputs": [
    {
     "data": {
      "text/plain": [
       "16"
      ]
     },
     "execution_count": 34,
     "metadata": {},
     "output_type": "execute_result"
    }
   ],
   "source": [
    "_1=Node(1)\n",
    "_11=Node(11)\n",
    "_4=Node(4,_1,_11)\n",
    "_4.total()"
   ]
  },
  {
   "cell_type": "code",
   "execution_count": 35,
   "id": "0589e875",
   "metadata": {},
   "outputs": [
    {
     "data": {
      "text/plain": [
       "11"
      ]
     },
     "execution_count": 35,
     "metadata": {},
     "output_type": "execute_result"
    }
   ],
   "source": [
    "_4.find_max()"
   ]
  },
  {
   "cell_type": "code",
   "execution_count": 36,
   "id": "60449861",
   "metadata": {},
   "outputs": [
    {
     "data": {
      "text/plain": [
       "3"
      ]
     },
     "execution_count": 36,
     "metadata": {},
     "output_type": "execute_result"
    }
   ],
   "source": [
    "_4.count()"
   ]
  },
  {
   "cell_type": "code",
   "execution_count": 37,
   "id": "71a948ed",
   "metadata": {},
   "outputs": [
    {
     "data": {
      "text/plain": [
       "1"
      ]
     },
     "execution_count": 37,
     "metadata": {},
     "output_type": "execute_result"
    }
   ],
   "source": [
    "_4.find_min()"
   ]
  },
  {
   "cell_type": "code",
   "execution_count": 38,
   "id": "b2e8d5be",
   "metadata": {},
   "outputs": [
    {
     "data": {
      "text/plain": [
       "19"
      ]
     },
     "execution_count": 38,
     "metadata": {},
     "output_type": "execute_result"
    }
   ],
   "source": [
    "_4.translate_update_value(lambda x : x+1)\n",
    "_4.total()\n"
   ]
  },
  {
   "cell_type": "code",
   "execution_count": 39,
   "id": "d4902e12",
   "metadata": {},
   "outputs": [
    {
     "data": {
      "text/plain": [
       "False"
      ]
     },
     "execution_count": 39,
     "metadata": {},
     "output_type": "execute_result"
    }
   ],
   "source": [
    "_4.find(11)"
   ]
  },
  {
   "cell_type": "code",
   "execution_count": 40,
   "id": "971a8230",
   "metadata": {},
   "outputs": [
    {
     "data": {
      "text/plain": [
       "45"
      ]
     },
     "execution_count": 40,
     "metadata": {},
     "output_type": "execute_result"
    }
   ],
   "source": [
    "_14=Node(14)\n",
    "_12=Node(12,_4,_14)\n",
    "_12.total()"
   ]
  },
  {
   "cell_type": "code",
   "execution_count": 41,
   "id": "291faa6d",
   "metadata": {},
   "outputs": [
    {
     "data": {
      "text/plain": [
       "3"
      ]
     },
     "execution_count": 41,
     "metadata": {},
     "output_type": "execute_result"
    }
   ],
   "source": [
    "_12.max_depth()"
   ]
  },
  {
   "cell_type": "code",
   "execution_count": 42,
   "id": "a606a4a4",
   "metadata": {},
   "outputs": [
    {
     "name": "stdout",
     "output_type": "stream",
     "text": [
      "3\n"
     ]
    }
   ],
   "source": [
    "# Constructing the binary tree\n",
    "root = Node(1)\n",
    "root.left = Node(2)\n",
    "root.right = Node(3)\n",
    "root.left.left = Node(4)\n",
    "root.left.right = Node(5)\n",
    "\n",
    "# Calculating the maximum depth\n",
    "print(root.max_depth())  # Output: 3\n"
   ]
  },
  {
   "cell_type": "code",
   "execution_count": null,
   "id": "bc3370b8",
   "metadata": {},
   "outputs": [],
   "source": []
  }
 ],
 "metadata": {
  "kernelspec": {
   "display_name": "Python 3",
   "language": "python",
   "name": "python3"
  },
  "language_info": {
   "codemirror_mode": {
    "name": "ipython",
    "version": 3
   },
   "file_extension": ".py",
   "mimetype": "text/x-python",
   "name": "python",
   "nbconvert_exporter": "python",
   "pygments_lexer": "ipython3",
   "version": "3.12.1"
  }
 },
 "nbformat": 4,
 "nbformat_minor": 5
}
