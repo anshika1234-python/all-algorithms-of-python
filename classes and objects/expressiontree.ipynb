{
 "cells": [
  {
   "cell_type": "markdown",
   "id": "1081ae54",
   "metadata": {},
   "source": [
    " # expression tree\n",
    " For an expression: (3+4)*(9-10)\n"
   ]
  },
  {
   "cell_type": "code",
   "execution_count": 6,
   "id": "8e6bf445",
   "metadata": {},
   "outputs": [],
   "source": [
    "class Node:\n",
    "    def __init__(self, operator, left, right):\n",
    "        self.operator = operator\n",
    "        self.left = left\n",
    "        self.right = right\n",
    "\n",
    "    def compute(self):\n",
    "        if isinstance(self.left, Node):\n",
    "            left_value = self.left.compute()\n",
    "        else:\n",
    "            left_value = self.left\n",
    "\n",
    "        if isinstance(self.right, Node):\n",
    "            right_value = self.right.compute()\n",
    "        else:\n",
    "            right_value = self.right\n",
    "\n",
    "        if self.operator == '+':\n",
    "            return left_value + right_value\n",
    "        elif self.operator == '-':\n",
    "            return left_value - right_value\n",
    "        elif self.operator == '*':\n",
    "            return left_value * right_value\n",
    "        elif self.operator == '/':\n",
    "            return left_value / right_value\n",
    "        else:\n",
    "            raise ValueError(f\"Unsupported operator: {self.operator}\")\n"
   ]
  },
  {
   "cell_type": "code",
   "execution_count": null,
   "id": "0101caba",
   "metadata": {},
   "outputs": [
    {
     "name": "stdout",
     "output_type": "stream",
     "text": [
      "7\n",
      "-1\n",
      "-7\n"
     ]
    }
   ],
   "source": [
    "# Create the expression tree\n",
    "add = Node('+', 3, 4)\n",
    "print(add.compute())  \n",
    "\n",
    "sub = Node('-', 9, 10)\n",
    "print(sub.compute())\n",
    "\n",
    "mul = Node('*', add, sub)\n",
    "print(mul.compute()) "
   ]
  },
  {
   "cell_type": "code",
   "execution_count": null,
   "id": "bc4dd959",
   "metadata": {},
   "outputs": [],
   "source": []
  }
 ],
 "metadata": {
  "kernelspec": {
   "display_name": "Python 3",
   "language": "python",
   "name": "python3"
  },
  "language_info": {
   "codemirror_mode": {
    "name": "ipython",
    "version": 3
   },
   "file_extension": ".py",
   "mimetype": "text/x-python",
   "name": "python",
   "nbconvert_exporter": "python",
   "pygments_lexer": "ipython3",
   "version": "3.12.1"
  }
 },
 "nbformat": 4,
 "nbformat_minor": 5
}
