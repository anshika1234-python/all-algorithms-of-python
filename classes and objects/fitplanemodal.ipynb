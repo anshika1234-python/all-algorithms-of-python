{
 "cells": [
  {
   "cell_type": "markdown",
   "id": "18b73e2c",
   "metadata": {},
   "source": [
    "# fit plane modal\n",
    "we have to fit a plane for x as 2 d array and y as 1 d array"
   ]
  },
  {
   "cell_type": "markdown",
   "id": "51008bcd",
   "metadata": {},
   "source": []
  },
  {
   "cell_type": "code",
   "execution_count": 5,
   "id": "913a72e7",
   "metadata": {},
   "outputs": [],
   "source": [
    "class FitMyPlane:\n",
    "    def __init__(self, X, y):       # constructor\n",
    "        self.X = X                  # 2D input data\n",
    "        self.y = y                  # 1D output data\n",
    "        self.coefficients = None    # intially m and c are none later used to store values\n",
    "        self.intercept = None\n",
    "\n",
    "    def fit(self):               # function inside class\n",
    "        # Calculate means of X and y\n",
    "        mean_X = [sum(b) / len(b) for b in zip(*self.X)]  # here * represent transpose of X\n",
    "        mean_y = sum(self.y) / len(self.y)                \n",
    "\n",
    "        # Calculate the coefficients\n",
    "        numerator = [0 for _ in range(len(self.X[0]))]  #The length of these lists is equal to # the number of features in X with that much number of zero \n",
    "        denominator = [0 for _ in range(len(self.X[0]))]\n",
    "\n",
    "\n",
    "        for i in range(len(self.X)):\n",
    "            for j in range(len(self.X[0])):\n",
    "                numerator[j] += (self.X[i][j] - mean_X[j]) * (self.y[i] - mean_y)\n",
    "                denominator[j] += (self.X[i][j] - mean_X[j]) ** 2\n",
    "            # this numerator and denimatror is used to calcualate m by this dividing them #this is the formula\n",
    "                \n",
    "\n",
    "        self.coefficients = [num / denom for num, denom in zip(numerator, denominator)]\n",
    "        self.intercept = mean_y - sum(coef * mean for coef, mean in zip(self.coefficients, mean_X))\n",
    "\n",
    "    def predict(self, X_new):\n",
    "        return [self.intercept + sum(coef * x for coef, x in zip(self.coefficients, x_row)) for x_row in X_new]"
   ]
  },
  {
   "cell_type": "markdown",
   "id": "8c356e84",
   "metadata": {},
   "source": []
  },
  {
   "cell_type": "code",
   "execution_count": 8,
   "id": "ebadfb90",
   "metadata": {},
   "outputs": [
    {
     "name": "stdout",
     "output_type": "stream",
     "text": [
      "Predictions: [18.0, 22.0]\n"
     ]
    }
   ],
   "source": [
    "X_train = [\n",
    "        [1, 2],\n",
    "        [2, 3],\n",
    "        [3, 4],\n",
    "        [4, 5]\n",
    "    ]\n",
    "y_train = [5, 7, 9, 11]\n",
    "\n",
    "  \n",
    "model = FitMyPlane(X_train, y_train)\n",
    "model.fit()\n",
    "X_test = [\n",
    "        [5, 6],\n",
    "        [6, 7]\n",
    "    ]\n",
    "predictions = model.predict(X_test)\n",
    "print(\"Predictions:\", predictions)\n",
    "\n"
   ]
  },
  {
   "cell_type": "code",
   "execution_count": null,
   "id": "d1762b10",
   "metadata": {},
   "outputs": [],
   "source": []
  },
  {
   "cell_type": "code",
   "execution_count": null,
   "id": "fc523aff",
   "metadata": {},
   "outputs": [],
   "source": []
  }
 ],
 "metadata": {
  "kernelspec": {
   "display_name": "Python 3",
   "language": "python",
   "name": "python3"
  },
  "language_info": {
   "codemirror_mode": {
    "name": "ipython",
    "version": 3
   },
   "file_extension": ".py",
   "mimetype": "text/x-python",
   "name": "python",
   "nbconvert_exporter": "python",
   "pygments_lexer": "ipython3",
   "version": "3.12.1"
  }
 },
 "nbformat": 4,
 "nbformat_minor": 5
}
