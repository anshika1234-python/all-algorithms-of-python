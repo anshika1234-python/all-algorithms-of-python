{
 "cells": [
  {
   "cell_type": "markdown",
   "id": "d4ec10da",
   "metadata": {},
   "source": [
    "# job tree\n",
    "in this tree we add parameters conditions on basis of which job should be selected or not"
   ]
  },
  {
   "cell_type": "markdown",
   "id": "6f872f9f",
   "metadata": {},
   "source": [
    "  Salary ≥ 1\n",
    "       /       \\\n",
    "    No       Learning ≥ 2\n",
    "               /       \\\n",
    "            No        Distance ≥ 1\n",
    "                        /       \\\n",
    "                     Yes        No"
   ]
  },
  {
   "cell_type": "code",
   "execution_count": 1,
   "id": "3c15d773",
   "metadata": {},
   "outputs": [],
   "source": [
    "class DecisionNode:\n",
    "    criteria = None # eg\"salary\"\n",
    "    boundary = 0  # 100000\n",
    "    left = None # go left if criteria < boundary\n",
    "    right = None # go right if criteria >= boundary\n",
    "\n",
    "    def __init__(self, c, b, l, r):\n",
    "        self.criteria = c\n",
    "        self.boundary = b\n",
    "        self.left = l\n",
    "        self.right = r\n",
    "\n",
    "    def answer(self, circumstance):\n",
    "        if circumstance[self.criteria] >= self.boundary:\n",
    "            return self.right.answer(circumstance)\n",
    "        else:\n",
    "            return self.left.answer(circumstance)\n",
    "    \n",
    "class Yes(DecisionNode):\n",
    "    def __init__(self):\n",
    "        pass\n",
    "    \n",
    "    def answer(self, circumstance):\n",
    "        return True\n",
    "\n",
    "class No(DecisionNode):\n",
    "    def __init__(self):\n",
    "        pass\n",
    "    def answer(self, circumstance):\n",
    "        return False"
   ]
  },
  {
   "cell_type": "code",
   "execution_count": 2,
   "id": "1ae8f3ba",
   "metadata": {},
   "outputs": [
    {
     "data": {
      "text/plain": [
       "True"
      ]
     },
     "execution_count": 2,
     "metadata": {},
     "output_type": "execute_result"
    }
   ],
   "source": [
    "dist = DecisionNode(\"dist\", 1, Yes(), No())\n",
    "learningOpp = DecisionNode(\"learningOpp\", 1, No(), dist)\n",
    "salary = DecisionNode(\"salary\", 1, No(), learningOpp)\n",
    "\n",
    "salary.answer({\n",
    "    'salary': 2,\n",
    "    'learningOpp': 3,\n",
    "    'dist': 0.5\n",
    "})"
   ]
  },
  {
   "cell_type": "code",
   "execution_count": 3,
   "id": "7244dbfb",
   "metadata": {},
   "outputs": [
    {
     "data": {
      "text/plain": [
       "False"
      ]
     },
     "execution_count": 3,
     "metadata": {},
     "output_type": "execute_result"
    }
   ],
   "source": [
    "salary.answer({\n",
    "    'salary': 0.5,\n",
    "    'learningOpp': 3,\n",
    "    'dist': 0.5\n",
    "})"
   ]
  },
  {
   "cell_type": "code",
   "execution_count": null,
   "id": "1d1ec6f0",
   "metadata": {
    "vscode": {
     "languageId": "markdown"
    }
   },
   "outputs": [],
   "source": [
    "In Visual Studio, you can use the **Find in Files** feature to search for specific words or patterns in your project. Here's how you can access it:\n",
    "\n",
    "1. **Keyboard Shortcut**: Press `Ctrl + Shift + F` (Windows/Linux) or `Cmd + Shift + F` (Mac).\n",
    "2. **Menu Option**: Go to the top menu bar, click on **Edit** > **Find and Replace** > **Find in Files**.\n",
    "\n",
    "This will open the **Find in Files** window, where you can:\n",
    "- Enter the word or pattern you want to search for.\n",
    "- Use wildcards or regular expressions for advanced searches.\n",
    "- Specify the scope (e.g., current document, entire project, or a specific folder).\n",
    "- Search for words starting or ending with specific characters by using regular expressions like `^word` (starts with) or `word$` (ends with)."
   ]
  },
  {
   "cell_type": "code",
   "execution_count": null,
   "id": "fd18985e",
   "metadata": {},
   "outputs": [],
   "source": []
  }
 ],
 "metadata": {
  "kernelspec": {
   "display_name": "Python 3",
   "language": "python",
   "name": "python3"
  },
  "language_info": {
   "codemirror_mode": {
    "name": "ipython",
    "version": 3
   },
   "file_extension": ".py",
   "mimetype": "text/x-python",
   "name": "python",
   "nbconvert_exporter": "python",
   "pygments_lexer": "ipython3",
   "version": "3.12.1"
  }
 },
 "nbformat": 4,
 "nbformat_minor": 5
}
