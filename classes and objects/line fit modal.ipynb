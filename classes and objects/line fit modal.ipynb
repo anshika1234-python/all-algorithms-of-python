{
 "cells": [
  {
   "cell_type": "code",
   "execution_count": 1,
   "id": "dd5a4c31",
   "metadata": {},
   "outputs": [],
   "source": [
    "class TwoPointLine:\n",
    "    '''This is the Two Point Class by SG'''\n",
    "    def __init__(self, name=\"SG\"):\n",
    "        self.name = name\n",
    "        print(f\"The class has been constructed {name}\")\n",
    "    def classMethod(x):\n",
    "        print(f\"This is a class method: {x}\")\n",
    "        \n",
    "    def fit(self, x, y):\n",
    "        if len(x) != 2 or len(y) != 2:\n",
    "            print(\"Error! Invalid Data\")\n",
    "            return\n",
    "        x1, x2 = x\n",
    "        y1, y2 = y\n",
    "        m = (y2 - y1) / (x2 - x1)\n",
    "        c = y2 - m*x2\n",
    "        self.params = (m, c)\n",
    "    def predict(self, x):\n",
    "        m, c = self.params\n",
    "        result = []\n",
    "        for xx in x:\n",
    "            yy = m * xx + c\n",
    "            result.append(yy)\n",
    "        return result"
   ]
  },
  {
   "cell_type": "code",
   "execution_count": 2,
   "id": "a1bb30d8",
   "metadata": {},
   "outputs": [
    {
     "name": "stdout",
     "output_type": "stream",
     "text": [
      "The class has been constructed anshika\n"
     ]
    },
    {
     "data": {
      "text/plain": [
       "[9.8]"
      ]
     },
     "execution_count": 2,
     "metadata": {},
     "output_type": "execute_result"
    }
   ],
   "source": [
    "model1 = TwoPointLine(\"anshika\")\n",
    "model1.fit([20, 5], [3, 9]) # learns slop and intercept\n",
    "model1.predict([3]) # using the model"
   ]
  },
  {
   "cell_type": "markdown",
   "id": "a7da6e08",
   "metadata": {},
   "source": [
    "   8\n",
    "   / \\\n",
    "  3   10\n",
    " / \\    \\\n",
    "1   6    14\n",
    "   / \\   /\n",
    "  4   7 13"
   ]
  },
  {
   "cell_type": "markdown",
   "id": "09505c0c",
   "metadata": {},
   "source": []
  }
 ],
 "metadata": {
  "kernelspec": {
   "display_name": "Python 3",
   "language": "python",
   "name": "python3"
  },
  "language_info": {
   "codemirror_mode": {
    "name": "ipython",
    "version": 3
   },
   "file_extension": ".py",
   "mimetype": "text/x-python",
   "name": "python",
   "nbconvert_exporter": "python",
   "pygments_lexer": "ipython3",
   "version": "3.12.1"
  }
 },
 "nbformat": 4,
 "nbformat_minor": 5
}
