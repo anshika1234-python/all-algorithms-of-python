{
 "cells": [
  {
   "cell_type": "code",
   "execution_count": 1,
   "id": "9f93cc1c",
   "metadata": {},
   "outputs": [],
   "source": [
    "from math import sqrt\n",
    "def cosine_similarity(arr1,arr2):\n",
    "        dot_product=sum(a*b for a,b in zip (arr1,arr2))\n",
    "        length1=sqrt(sum(a*a for a in arr1))\n",
    "        length2=sqrt(sum(b*b for b in arr2))\n",
    "        if length1 ==1 and length2==1:\n",
    "            return dot_product\n",
    "        else:\n",
    "             return (dot_product)/(sqrt(length1)*sqrt(length2))"
   ]
  },
  {
   "cell_type": "code",
   "execution_count": 2,
   "id": "492b981b",
   "metadata": {},
   "outputs": [
    {
     "data": {
      "text/plain": [
       "3.2897673186866854"
      ]
     },
     "execution_count": 2,
     "metadata": {},
     "output_type": "execute_result"
    }
   ],
   "source": [
    "cosine_similarity([1,2],[3,4])"
   ]
  },
  {
   "cell_type": "code",
   "execution_count": 3,
   "id": "491a2092",
   "metadata": {},
   "outputs": [],
   "source": [
    "from math import sqrt\n",
    "def cos_sim(arr1,arr2):\n",
    "    dot_pro=0\n",
    "    len1=0\n",
    "    len2=0\n",
    "    for i in range(len(arr1)):\n",
    "        dot_pro += arr1[i]*arr2[i]\n",
    "        len1 += sqrt(arr1[i]**2)\n",
    "        len2 += sqrt(arr2[i]**2)\n",
    "        if len1==1 and len2==1:\n",
    "            return dot_pro\n",
    "        else:\n",
    "            \n",
    "             return dot_pro/(len1*len2)"
   ]
  },
  {
   "cell_type": "code",
   "execution_count": 4,
   "id": "ae48556d",
   "metadata": {},
   "outputs": [
    {
     "data": {
      "text/plain": [
       "1.0"
      ]
     },
     "execution_count": 4,
     "metadata": {},
     "output_type": "execute_result"
    }
   ],
   "source": [
    "cos_sim([1,0],[3/5,4/5])"
   ]
  },
  {
   "cell_type": "code",
   "execution_count": null,
   "id": "527085aa",
   "metadata": {},
   "outputs": [],
   "source": []
  }
 ],
 "metadata": {
  "kernelspec": {
   "display_name": "Python 3",
   "language": "python",
   "name": "python3"
  },
  "language_info": {
   "codemirror_mode": {
    "name": "ipython",
    "version": 3
   },
   "file_extension": ".py",
   "mimetype": "text/x-python",
   "name": "python",
   "nbconvert_exporter": "python",
   "pygments_lexer": "ipython3",
   "version": "3.12.1"
  }
 },
 "nbformat": 4,
 "nbformat_minor": 5
}
