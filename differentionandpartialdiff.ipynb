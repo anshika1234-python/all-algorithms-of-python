{
 "cells": [
  {
   "cell_type": "markdown",
   "id": "d97cd5d6",
   "metadata": {},
   "source": [
    "# differentiation and partial differentiation"
   ]
  },
  {
   "cell_type": "code",
   "execution_count": 1,
   "id": "1ace51f3",
   "metadata": {},
   "outputs": [],
   "source": [
    "def diff(f,x):\n",
    "    y1=f(x)\n",
    "    delta=1e-8\n",
    "    y2=f(x+delta)\n",
    "    return (y2-y1)/delta"
   ]
  },
  {
   "cell_type": "code",
   "execution_count": 2,
   "id": "c3c5b34a",
   "metadata": {},
   "outputs": [],
   "source": [
    "def sq(x):\n",
    "    return x**2"
   ]
  },
  {
   "cell_type": "code",
   "execution_count": 3,
   "id": "d0b641e4",
   "metadata": {},
   "outputs": [
    {
     "data": {
      "text/plain": [
       "3.999999975690116"
      ]
     },
     "execution_count": 3,
     "metadata": {},
     "output_type": "execute_result"
    }
   ],
   "source": [
    "diff(sq,2)"
   ]
  },
  {
   "cell_type": "code",
   "execution_count": 4,
   "id": "36315ada",
   "metadata": {},
   "outputs": [],
   "source": [
    "def cube(x):\n",
    "    return x*x*x"
   ]
  },
  {
   "cell_type": "code",
   "execution_count": 5,
   "id": "4a55e2f9",
   "metadata": {},
   "outputs": [
    {
     "data": {
      "text/plain": [
       "11.999999927070348"
      ]
     },
     "execution_count": 5,
     "metadata": {},
     "output_type": "execute_result"
    }
   ],
   "source": [
    "diff(cube,2)"
   ]
  },
  {
   "cell_type": "code",
   "execution_count": 6,
   "id": "645cbe61",
   "metadata": {},
   "outputs": [],
   "source": [
    "def diff_partial(f,args,varindex):\n",
    "    y1=f(args)\n",
    "    delta=1e-8\n",
    "    args[varindex] += delta\n",
    "    y2= f(args)\n",
    "    return (y2-y1)/delta"
   ]
  },
  {
   "cell_type": "code",
   "execution_count": 7,
   "id": "c41c1278",
   "metadata": {},
   "outputs": [],
   "source": [
    "def func(arr):\n",
    "    x,z=arr\n",
    "    return x**2+z**2+10"
   ]
  },
  {
   "cell_type": "code",
   "execution_count": 8,
   "id": "a2a04290",
   "metadata": {},
   "outputs": [
    {
     "data": {
      "text/plain": [
       "1.999999987845058"
      ]
     },
     "execution_count": 8,
     "metadata": {},
     "output_type": "execute_result"
    }
   ],
   "source": [
    "diff_partial(func,[1,1],0)"
   ]
  },
  {
   "cell_type": "code",
   "execution_count": 9,
   "id": "dca21426",
   "metadata": {},
   "outputs": [
    {
     "data": {
      "text/plain": [
       "1.999999987845058"
      ]
     },
     "execution_count": 9,
     "metadata": {},
     "output_type": "execute_result"
    }
   ],
   "source": [
    "diff_partial(func,[1,1],1)"
   ]
  },
  {
   "cell_type": "code",
   "execution_count": null,
   "id": "6b08859e",
   "metadata": {},
   "outputs": [],
   "source": []
  }
 ],
 "metadata": {
  "kernelspec": {
   "display_name": "Python 3",
   "language": "python",
   "name": "python3"
  },
  "language_info": {
   "codemirror_mode": {
    "name": "ipython",
    "version": 3
   },
   "file_extension": ".py",
   "mimetype": "text/x-python",
   "name": "python",
   "nbconvert_exporter": "python",
   "pygments_lexer": "ipython3",
   "version": "3.12.1"
  }
 },
 "nbformat": 4,
 "nbformat_minor": 5
}
