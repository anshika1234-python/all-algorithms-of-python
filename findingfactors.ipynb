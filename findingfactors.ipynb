{
 "cells": [
  {
   "cell_type": "code",
   "execution_count": 1,
   "id": "74da58ce",
   "metadata": {},
   "outputs": [],
   "source": [
    "def find_factors(n):\n",
    "    for i in range (2,n):\n",
    "        if n % i==0:\n",
    "            new_num=n//i\n",
    "            new_factor=find_factors(new_num)\n",
    "            return [i] + new_factor\n",
    "        return [n]"
   ]
  },
  {
   "cell_type": "code",
   "execution_count": 2,
   "id": "0e15cc51",
   "metadata": {},
   "outputs": [
    {
     "data": {
      "text/plain": [
       "[2, 3]"
      ]
     },
     "execution_count": 2,
     "metadata": {},
     "output_type": "execute_result"
    }
   ],
   "source": [
    "find_factors(6)"
   ]
  },
  {
   "cell_type": "markdown",
   "id": "2d58091c",
   "metadata": {},
   "source": [
    "# finding common factors between two numbers"
   ]
  },
  {
   "cell_type": "code",
   "execution_count": 3,
   "id": "a644ea60",
   "metadata": {},
   "outputs": [],
   "source": [
    "def common_factors(num1,num2):\n",
    "    f1=find_factors(num1)\n",
    "    f2=find_factors(num2)\n",
    "    r=[]\n",
    "    i=0\n",
    "    j=0\n",
    "    while i< len(f1) and j< len(f2):\n",
    "        if f1[i] == f2[j]:\n",
    "            r.append(f1[i])\n",
    "            i += 1\n",
    "            j += 1\n",
    "        else:\n",
    "            if f1[i]<f2[j]:\n",
    "                i +=1\n",
    "            else:\n",
    "                j +=1\n",
    "    return r"
   ]
  },
  {
   "cell_type": "code",
   "execution_count": 4,
   "id": "7f920594",
   "metadata": {},
   "outputs": [
    {
     "data": {
      "text/plain": [
       "[2, 3]"
      ]
     },
     "execution_count": 4,
     "metadata": {},
     "output_type": "execute_result"
    }
   ],
   "source": [
    "common_factors(12,6)"
   ]
  },
  {
   "cell_type": "code",
   "execution_count": 5,
   "id": "fc66f68a",
   "metadata": {},
   "outputs": [],
   "source": [
    "# finding factor by while loop"
   ]
  },
  {
   "cell_type": "code",
   "execution_count": 6,
   "id": "764636ec",
   "metadata": {},
   "outputs": [],
   "source": [
    "from math import sqrt"
   ]
  },
  {
   "cell_type": "code",
   "execution_count": 7,
   "id": "06e0eec8",
   "metadata": {},
   "outputs": [],
   "source": [
    "def find_f(num):\n",
    "    factor=[]\n",
    "    while True:\n",
    "        found=False\n",
    "        for i in range (2,int(sqrt(num))+1):\n",
    "            if num%i==0:\n",
    "                factor.append(i)\n",
    "                num=num//i\n",
    "                found=True\n",
    "                break\n",
    "        if not found :\n",
    "            factor.append(num)  #if no factor was found i.e num is prime factor at this point it means num itself is the last prime factor \n",
    "            break\n",
    "    return factor"
   ]
  },
  {
   "cell_type": "code",
   "execution_count": 8,
   "id": "cb58f282",
   "metadata": {},
   "outputs": [
    {
     "data": {
      "text/plain": [
       "[2, 5]"
      ]
     },
     "execution_count": 8,
     "metadata": {},
     "output_type": "execute_result"
    }
   ],
   "source": [
    "find_f(10)"
   ]
  },
  {
   "cell_type": "code",
   "execution_count": null,
   "id": "6c60a17b",
   "metadata": {},
   "outputs": [],
   "source": []
  }
 ],
 "metadata": {
  "kernelspec": {
   "display_name": "Python 3",
   "language": "python",
   "name": "python3"
  },
  "language_info": {
   "codemirror_mode": {
    "name": "ipython",
    "version": 3
   },
   "file_extension": ".py",
   "mimetype": "text/x-python",
   "name": "python",
   "nbconvert_exporter": "python",
   "pygments_lexer": "ipython3",
   "version": "3.12.1"
  }
 },
 "nbformat": 4,
 "nbformat_minor": 5
}
