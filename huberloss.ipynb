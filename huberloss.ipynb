{
 "cells": [
  {
   "cell_type": "markdown",
   "id": "1fccc78f",
   "metadata": {},
   "source": [
    "# huber loss\n",
    "Huber Loss — a super useful loss function that’s like a mix between Mean Squared Error (MSE) and Mean Absolute Error (MAE). It’s especially helpful when your data has outliers.\n",
    "\n",
    "MSE punishes large errors too harshly\n",
    "\n",
    "MAE treats all errors equally\n",
    "\n",
    "Huber Loss is a smooth compromise — great for real-world data with noise or outliers\n",
    "\n",
    "Huber Loss is defined as:\n",
    "    l(delta)=a**2/2                      when a<=delta\n",
    "    l(delta)=[delta.(|a|-1/2*delta)]     otherwise\n"
   ]
  },
  {
   "cell_type": "code",
   "execution_count": 1,
   "id": "2781dd54",
   "metadata": {},
   "outputs": [],
   "source": [
    "def knn(train_data,x):\n",
    "    max_size=float('inf')\n",
    "    y_predicted=None\n",
    "    for xi,yi in train_data:\n",
    "        diff=x-xi\n",
    "        if diff<max_size:\n",
    "            max_size=diff\n",
    "            y_predicted=yi\n",
    "    return y_predicted"
   ]
  },
  {
   "cell_type": "code",
   "execution_count": 2,
   "id": "9752b8c0",
   "metadata": {},
   "outputs": [
    {
     "name": "stdout",
     "output_type": "stream",
     "text": [
      "y_predicted = 110\n"
     ]
    }
   ],
   "source": [
    "train_data=[[1,10],[2,20],[3,30],[10,110]]\n",
    "knn(train_data,5)\n",
    "print(\"y_predicted =\",knn(train_data,5) )"
   ]
  },
  {
   "cell_type": "code",
   "execution_count": 3,
   "id": "ac23d0d7",
   "metadata": {},
   "outputs": [],
   "source": [
    "test_data =[[3,4],[9,100],[5,55]]\n",
    "y_actual=55"
   ]
  },
  {
   "cell_type": "code",
   "execution_count": 4,
   "id": "89925ffb",
   "metadata": {},
   "outputs": [],
   "source": [
    "def huber_loss(y_actual,y_predicted,delta):\n",
    "    error=y_actual-y_predicted\n",
    "    if abs(error) <= delta:\n",
    "        return 0.5*error**2\n",
    "    else:\n",
    "        return (delta*(abs(error)-0.5*delta))"
   ]
  },
  {
   "cell_type": "code",
   "execution_count": 5,
   "id": "735ccbd8",
   "metadata": {},
   "outputs": [
    {
     "data": {
      "text/plain": [
       "312.0"
      ]
     },
     "execution_count": 5,
     "metadata": {},
     "output_type": "execute_result"
    }
   ],
   "source": [
    " huber_loss(55,110,6)"
   ]
  },
  {
   "cell_type": "code",
   "execution_count": null,
   "id": "d88d58d3",
   "metadata": {},
   "outputs": [],
   "source": []
  }
 ],
 "metadata": {
  "kernelspec": {
   "display_name": "Python 3",
   "language": "python",
   "name": "python3"
  },
  "language_info": {
   "codemirror_mode": {
    "name": "ipython",
    "version": 3
   },
   "file_extension": ".py",
   "mimetype": "text/x-python",
   "name": "python",
   "nbconvert_exporter": "python",
   "pygments_lexer": "ipython3",
   "version": "3.12.1"
  }
 },
 "nbformat": 4,
 "nbformat_minor": 5
}
