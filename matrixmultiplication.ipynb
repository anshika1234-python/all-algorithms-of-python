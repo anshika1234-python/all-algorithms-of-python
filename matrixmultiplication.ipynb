{
 "cells": [
  {
   "cell_type": "markdown",
   "id": "54c00cd8",
   "metadata": {},
   "source": [
    "matrix multiplication"
   ]
  },
  {
   "cell_type": "code",
   "execution_count": 8,
   "id": "6ef60021",
   "metadata": {},
   "outputs": [],
   "source": [
    "def matix_mul_arb(m1,m2):\n",
    "    row_a=len(m1)\n",
    "    col_a=len(m1[0])\n",
    "    row_b=len(m2)\n",
    "    col_b=len(m2[0])\n",
    "    if col_a!=row_b:\n",
    "        print(\"error, not possible!\")\n",
    "    else:\n",
    "        result=[]\n",
    "        for i in range(row_a):\n",
    "            row=[]\n",
    "            for j in range(col_b):\n",
    "                val=sum(m1[i][k]*m2[k][j]for k in range(col_a))\n",
    "                row.append(val)\n",
    "            result.append(row)\n",
    "        return result\n",
    "    \n",
    "    "
   ]
  },
  {
   "cell_type": "markdown",
   "id": "4a83b504",
   "metadata": {},
   "source": []
  },
  {
   "cell_type": "code",
   "execution_count": 10,
   "id": "0584d631",
   "metadata": {},
   "outputs": [
    {
     "data": {
      "text/plain": [
       "[[255, 270, 285], [391, 416, 441], [527, 562, 597]]"
      ]
     },
     "execution_count": 10,
     "metadata": {},
     "output_type": "execute_result"
    }
   ],
   "source": [
    "m1=[\n",
    "    [1,2,3,9],\n",
    "    [4,5,6,10],\n",
    "    [7,8,9,11]\n",
    "]\n",
    "m2=[\n",
    "    [10,11,12],\n",
    "    [13,14,15],\n",
    "    [16,17,18],\n",
    "    [19,20,21]\n",
    "]\n",
    "matix_mul_arb(m1,m2)"
   ]
  },
  {
   "cell_type": "code",
   "execution_count": null,
   "id": "d27988c0",
   "metadata": {},
   "outputs": [],
   "source": []
  }
 ],
 "metadata": {
  "kernelspec": {
   "display_name": "Python 3",
   "language": "python",
   "name": "python3"
  },
  "language_info": {
   "codemirror_mode": {
    "name": "ipython",
    "version": 3
   },
   "file_extension": ".py",
   "mimetype": "text/x-python",
   "name": "python",
   "nbconvert_exporter": "python",
   "pygments_lexer": "ipython3",
   "version": "3.12.1"
  }
 },
 "nbformat": 4,
 "nbformat_minor": 5
}
