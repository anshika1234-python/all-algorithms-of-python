{
 "cells": [
  {
   "cell_type": "markdown",
   "id": "8a575a7d",
   "metadata": {},
   "source": []
  },
  {
   "cell_type": "code",
   "execution_count": 1,
   "id": "f78dab76",
   "metadata": {},
   "outputs": [],
   "source": [
    "def gaussian_elimination(A, B):\n",
    "    n = len(B)\n",
    "    \n",
    "    # Forward Elimination\n",
    "    for i in range(n):\n",
    "        # Pivoting: Find the row with the maximum element in the current column\n",
    "        max_row = max(range(i, n), key=lambda r: abs(A[r][i]))\n",
    "        A[i], A[max_row] = A[max_row], A[i]\n",
    "        B[i], B[max_row] = B[max_row], B[i]\n",
    "        \n",
    "        # Make the diagonal element 1 and eliminate below\n",
    "        for j in range(i + 1, n):\n",
    "            if A[j][i] != 0:\n",
    "                ratio = A[j][i] / A[i][i]\n",
    "                for k in range(i, n):\n",
    "                    A[j][k] -= ratio * A[i][k]\n",
    "                B[j] -= ratio * B[i]\n",
    "    \n",
    "    # Back Substitution\n",
    "    X = [0] * n\n",
    "    for i in range(n - 1, -1, -1):\n",
    "        X[i] = B[i] / A[i][i]\n",
    "        for j in range(i - 1, -1, -1):\n",
    "            B[j] -= A[j][i] * X[i]\n",
    "    \n",
    "    return X\n"
   ]
  },
  {
   "cell_type": "code",
   "execution_count": 2,
   "id": "1924fb52",
   "metadata": {},
   "outputs": [
    {
     "ename": "IndexError",
     "evalue": "list index out of range",
     "output_type": "error",
     "traceback": [
      "\u001b[31m---------------------------------------------------------------------------\u001b[39m",
      "\u001b[31mIndexError\u001b[39m                                Traceback (most recent call last)",
      "\u001b[36mCell\u001b[39m\u001b[36m \u001b[39m\u001b[32mIn[2]\u001b[39m\u001b[32m, line 1\u001b[39m\n\u001b[32m----> \u001b[39m\u001b[32m1\u001b[39m \u001b[43mgaussian_elimination\u001b[49m\u001b[43m(\u001b[49m\u001b[43m[\u001b[49m\u001b[43m[\u001b[49m\u001b[32;43m1\u001b[39;49m\u001b[43m,\u001b[49m\u001b[32;43m1\u001b[39;49m\u001b[43m]\u001b[49m\u001b[43m,\u001b[49m\u001b[43m[\u001b[49m\u001b[32;43m3\u001b[39;49m\u001b[43m,\u001b[49m\u001b[32;43m4\u001b[39;49m\u001b[43m]\u001b[49m\u001b[43m,\u001b[49m\u001b[43m[\u001b[49m\u001b[32;43m6\u001b[39;49m\u001b[43m,\u001b[49m\u001b[32;43m7\u001b[39;49m\u001b[43m]\u001b[49m\u001b[43m]\u001b[49m\u001b[43m,\u001b[49m\u001b[43m \u001b[49m\u001b[43m[\u001b[49m\u001b[32;43m2\u001b[39;49m\u001b[43m,\u001b[49m\u001b[32;43m4\u001b[39;49m\u001b[43m,\u001b[49m\u001b[32;43m5\u001b[39;49m\u001b[43m]\u001b[49m\u001b[43m)\u001b[49m\n",
      "\u001b[36mCell\u001b[39m\u001b[36m \u001b[39m\u001b[32mIn[1]\u001b[39m\u001b[32m, line 16\u001b[39m, in \u001b[36mgaussian_elimination\u001b[39m\u001b[34m(A, B)\u001b[39m\n\u001b[32m     14\u001b[39m             ratio = A[j][i] / A[i][i]\n\u001b[32m     15\u001b[39m             \u001b[38;5;28;01mfor\u001b[39;00m k \u001b[38;5;129;01min\u001b[39;00m \u001b[38;5;28mrange\u001b[39m(i, n):\n\u001b[32m---> \u001b[39m\u001b[32m16\u001b[39m                 \u001b[43mA\u001b[49m\u001b[43m[\u001b[49m\u001b[43mj\u001b[49m\u001b[43m]\u001b[49m\u001b[43m[\u001b[49m\u001b[43mk\u001b[49m\u001b[43m]\u001b[49m -= ratio * A[i][k]\n\u001b[32m     17\u001b[39m             B[j] -= ratio * B[i]\n\u001b[32m     19\u001b[39m \u001b[38;5;66;03m# Back Substitution\u001b[39;00m\n",
      "\u001b[31mIndexError\u001b[39m: list index out of range"
     ]
    }
   ],
   "source": [
    " gaussian_elimination([[1,1],[3,4],[6,7]], [2,4,5])"
   ]
  },
  {
   "cell_type": "code",
   "execution_count": null,
   "id": "42b58f17",
   "metadata": {},
   "outputs": [],
   "source": []
  }
 ],
 "metadata": {
  "kernelspec": {
   "display_name": "Python 3",
   "language": "python",
   "name": "python3"
  },
  "language_info": {
   "codemirror_mode": {
    "name": "ipython",
    "version": 3
   },
   "file_extension": ".py",
   "mimetype": "text/x-python",
   "name": "python",
   "nbconvert_exporter": "python",
   "pygments_lexer": "ipython3",
   "version": "3.12.1"
  }
 },
 "nbformat": 4,
 "nbformat_minor": 5
}
