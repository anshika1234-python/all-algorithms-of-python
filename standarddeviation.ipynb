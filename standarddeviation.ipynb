{
 "cells": [
  {
   "cell_type": "code",
   "execution_count": 1,
   "id": "4e043dbb",
   "metadata": {},
   "outputs": [],
   "source": [
    "def mean(arr):\n",
    "    n=len(arr)\n",
    "    if n ==0:\n",
    "        return 0\n",
    "    mean_arr=(sum(i for i in arr))/n\n",
    "    return mean_arr"
   ]
  },
  {
   "cell_type": "code",
   "execution_count": 2,
   "id": "0f3bf4f1",
   "metadata": {},
   "outputs": [
    {
     "data": {
      "text/plain": [
       "3.25"
      ]
     },
     "execution_count": 2,
     "metadata": {},
     "output_type": "execute_result"
    }
   ],
   "source": [
    "mean([6,4,2,1])"
   ]
  },
  {
   "cell_type": "markdown",
   "id": "919dff72",
   "metadata": {},
   "source": [
    "# standard deviation\n",
    "sd=sqrt((x-mean)**2)/n)"
   ]
  },
  {
   "cell_type": "code",
   "execution_count": 3,
   "id": "78b99cd4",
   "metadata": {},
   "outputs": [],
   "source": [
    "import math"
   ]
  },
  {
   "cell_type": "code",
   "execution_count": 4,
   "id": "bd922edb",
   "metadata": {},
   "outputs": [],
   "source": [
    "def standard_dev(arr):\n",
    "    x=mean(arr)\n",
    "    s_d=0\n",
    "    for i in arr:\n",
    "        diff=i-x\n",
    "        s_d += (diff)**2\n",
    "        total_var = math.sqrt(s_d/len(arr))\n",
    "    return  total_var "
   ]
  },
  {
   "cell_type": "code",
   "execution_count": 5,
   "id": "25660af2",
   "metadata": {},
   "outputs": [
    {
     "data": {
      "text/plain": [
       "1.4142135623730951"
      ]
     },
     "execution_count": 5,
     "metadata": {},
     "output_type": "execute_result"
    }
   ],
   "source": [
    "standard_dev([1,2,3,4,5])"
   ]
  },
  {
   "cell_type": "code",
   "execution_count": 6,
   "id": "11df494a",
   "metadata": {},
   "outputs": [],
   "source": [
    "def mean_1(arr):\n",
    "    s=0\n",
    "    c=0\n",
    "    for i in arr:\n",
    "        s += i\n",
    "        c +=1\n",
    "    return s/c"
   ]
  },
  {
   "cell_type": "code",
   "execution_count": 7,
   "id": "163bf8ef",
   "metadata": {},
   "outputs": [
    {
     "data": {
      "text/plain": [
       "3.25"
      ]
     },
     "execution_count": 7,
     "metadata": {},
     "output_type": "execute_result"
    }
   ],
   "source": [
    "mean_1([6,4,2,1])"
   ]
  },
  {
   "cell_type": "code",
   "execution_count": null,
   "id": "a93620ad",
   "metadata": {},
   "outputs": [],
   "source": []
  }
 ],
 "metadata": {
  "kernelspec": {
   "display_name": "Python 3",
   "language": "python",
   "name": "python3"
  },
  "language_info": {
   "codemirror_mode": {
    "name": "ipython",
    "version": 3
   },
   "file_extension": ".py",
   "mimetype": "text/x-python",
   "name": "python",
   "nbconvert_exporter": "python",
   "pygments_lexer": "ipython3",
   "version": "3.12.1"
  }
 },
 "nbformat": 4,
 "nbformat_minor": 5
}
