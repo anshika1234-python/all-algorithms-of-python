{
 "cells": [
  {
   "cell_type": "markdown",
   "id": "ecd3e253",
   "metadata": {},
   "source": [
    "#tower of hanoi"
   ]
  },
  {
   "cell_type": "code",
   "execution_count": 1,
   "id": "1e44508e",
   "metadata": {},
   "outputs": [],
   "source": [
    "def tower_of_hanoi(n, source, destination, auxiliary):\n",
    "    if n == 1:\n",
    "        print(f\"Move disk 1 from {source} to {destination}\")\n",
    "        return\n",
    "\n",
    "    tower_of_hanoi(n - 1, source, auxiliary, destination)\n",
    "    print(f\"Move disk {n} from {source} to {destination}\")\n",
    "    tower_of_hanoi(n - 1, auxiliary, destination, source)\n",
    "          "
   ]
  },
  {
   "cell_type": "code",
   "execution_count": 2,
   "id": "ba9b4310",
   "metadata": {},
   "outputs": [
    {
     "name": "stdout",
     "output_type": "stream",
     "text": [
      "Move disk 1 from A to B\n",
      "Move disk 2 from A to C\n",
      "Move disk 1 from B to C\n",
      "Move disk 3 from A to B\n",
      "Move disk 1 from C to A\n",
      "Move disk 2 from C to B\n",
      "Move disk 1 from A to B\n",
      "Move disk 4 from A to C\n",
      "Move disk 1 from B to C\n",
      "Move disk 2 from B to A\n",
      "Move disk 1 from C to A\n",
      "Move disk 3 from B to C\n",
      "Move disk 1 from A to B\n",
      "Move disk 2 from A to C\n",
      "Move disk 1 from B to C\n"
     ]
    }
   ],
   "source": [
    "n=4\n",
    "tower_of_hanoi(n,'A','C','B')"
   ]
  },
  {
   "cell_type": "code",
   "execution_count": null,
   "id": "67da6759",
   "metadata": {},
   "outputs": [],
   "source": []
  }
 ],
 "metadata": {
  "kernelspec": {
   "display_name": "Python 3",
   "language": "python",
   "name": "python3"
  },
  "language_info": {
   "codemirror_mode": {
    "name": "ipython",
    "version": 3
   },
   "file_extension": ".py",
   "mimetype": "text/x-python",
   "name": "python",
   "nbconvert_exporter": "python",
   "pygments_lexer": "ipython3",
   "version": "3.12.1"
  }
 },
 "nbformat": 4,
 "nbformat_minor": 5
}
